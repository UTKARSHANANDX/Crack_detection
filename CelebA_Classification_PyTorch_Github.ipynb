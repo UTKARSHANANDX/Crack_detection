{
  "cells": [
    {
      "cell_type": "code",
      "execution_count": null,
      "metadata": {
        "colab": {
          "base_uri": "https://localhost:8080/",
          "height": 122
        },
        "colab_type": "code",
        "id": "KuxOtFxlNhJx",
        "outputId": "9ca01eed-af45-4d6e-a92e-f47feb9d7725"
      },
      "outputs": [
        {
          "name": "stdout",
          "output_type": "stream",
          "text": [
            "Go to this URL in a browser: https://accounts.google.com/o/oauth2/auth?client_id=947318989803-6bn6qk8qdgf4n4g3pfee6491hc0brc4i.apps.googleusercontent.com&redirect_uri=urn%3Aietf%3Awg%3Aoauth%3A2.0%3Aoob&scope=email%20https%3A%2F%2Fwww.googleapis.com%2Fauth%2Fdocs.test%20https%3A%2F%2Fwww.googleapis.com%2Fauth%2Fdrive%20https%3A%2F%2Fwww.googleapis.com%2Fauth%2Fdrive.photos.readonly%20https%3A%2F%2Fwww.googleapis.com%2Fauth%2Fpeopleapi.readonly&response_type=code\n",
            "\n",
            "Enter your authorization code:\n",
            "··········\n",
            "Mounted at /content/drive\n"
          ]
        }
      ],
      "source": [
        "from google.colab import drive\n",
        "drive.mount('/content/drive')"
      ]
    },
    {
      "cell_type": "markdown",
      "metadata": {
        "colab_type": "text",
        "id": "HfLdDRy3Ns18"
      },
      "source": [
        "## Data Splitting and Pre-processing"
      ]
    },
    {
      "cell_type": "code",
      "execution_count": null,
      "metadata": {
        "colab": {},
        "colab_type": "code",
        "id": "TbP1W2AyN_1v"
      },
      "outputs": [],
      "source": [
        "img_zip_path = '/content/drive/My Drive/CelebA/Img/img_align_celeba.zip'\n"
      ]
    },
    {
      "cell_type": "code",
      "execution_count": null,
      "metadata": {
        "colab": {},
        "colab_type": "code",
        "id": "QNzoSg7DONCf"
      },
      "outputs": [],
      "source": [
        "import os\n",
        "import zipfile\n",
        "import pandas as pd\n",
        "import numpy as np"
      ]
    },
    {
      "cell_type": "code",
      "execution_count": null,
      "metadata": {
        "colab": {},
        "colab_type": "code",
        "id": "6DCAVj8fOQAs"
      },
      "outputs": [],
      "source": [
        "zip_ref = zipfile.ZipFile(img_zip_path, 'r')\n",
        "zip_ref.extractall()\n",
        "zip_ref.close()"
      ]
    },
    {
      "cell_type": "code",
      "execution_count": null,
      "metadata": {
        "colab": {},
        "colab_type": "code",
        "id": "d0Vi0UUgOaf7"
      },
      "outputs": [],
      "source": [
        "labels_path = '/content/drive/My Drive/CelebA/Anno/list_attr_celeba.txt' "
      ]
    },
    {
      "cell_type": "code",
      "execution_count": null,
      "metadata": {
        "colab": {},
        "colab_type": "code",
        "id": "Prm47ewtQoV6"
      },
      "outputs": [],
      "source": [
        "labels_df = pd.read_csv(labels_path)"
      ]
    },
    {
      "cell_type": "code",
      "execution_count": null,
      "metadata": {
        "colab": {
          "base_uri": "https://localhost:8080/",
          "height": 204
        },
        "colab_type": "code",
        "id": "xsrbjPnJQuf0",
        "outputId": "8a0e12b8-215c-42b5-a0a5-1e5d2630be09"
      },
      "outputs": [
        {
          "data": {
            "text/html": [
              "<div>\n",
              "<style scoped>\n",
              "    .dataframe tbody tr th:only-of-type {\n",
              "        vertical-align: middle;\n",
              "    }\n",
              "\n",
              "    .dataframe tbody tr th {\n",
              "        vertical-align: top;\n",
              "    }\n",
              "\n",
              "    .dataframe thead th {\n",
              "        text-align: right;\n",
              "    }\n",
              "</style>\n",
              "<table border=\"1\" class=\"dataframe\">\n",
              "  <thead>\n",
              "    <tr style=\"text-align: right;\">\n",
              "      <th></th>\n",
              "      <th>202599</th>\n",
              "    </tr>\n",
              "  </thead>\n",
              "  <tbody>\n",
              "    <tr>\n",
              "      <th>0</th>\n",
              "      <td>5_o_Clock_Shadow Arched_Eyebrows Attractive Ba...</td>\n",
              "    </tr>\n",
              "    <tr>\n",
              "      <th>1</th>\n",
              "      <td>000001.jpg -1  1  1 -1 -1 -1 -1 -1 -1 -1 -1  1...</td>\n",
              "    </tr>\n",
              "    <tr>\n",
              "      <th>2</th>\n",
              "      <td>000002.jpg -1 -1 -1  1 -1 -1 -1  1 -1 -1 -1  1...</td>\n",
              "    </tr>\n",
              "    <tr>\n",
              "      <th>3</th>\n",
              "      <td>000003.jpg -1 -1 -1 -1 -1 -1  1 -1 -1 -1  1 -1...</td>\n",
              "    </tr>\n",
              "    <tr>\n",
              "      <th>4</th>\n",
              "      <td>000004.jpg -1 -1  1 -1 -1 -1 -1 -1 -1 -1 -1 -1...</td>\n",
              "    </tr>\n",
              "  </tbody>\n",
              "</table>\n",
              "</div>"
            ],
            "text/plain": [
              "                                              202599\n",
              "0  5_o_Clock_Shadow Arched_Eyebrows Attractive Ba...\n",
              "1  000001.jpg -1  1  1 -1 -1 -1 -1 -1 -1 -1 -1  1...\n",
              "2  000002.jpg -1 -1 -1  1 -1 -1 -1  1 -1 -1 -1  1...\n",
              "3  000003.jpg -1 -1 -1 -1 -1 -1  1 -1 -1 -1  1 -1...\n",
              "4  000004.jpg -1 -1  1 -1 -1 -1 -1 -1 -1 -1 -1 -1..."
            ]
          },
          "execution_count": 9,
          "metadata": {
            "tags": []
          },
          "output_type": "execute_result"
        }
      ],
      "source": [
        "labels_df.head()"
      ]
    },
    {
      "cell_type": "code",
      "execution_count": null,
      "metadata": {
        "colab": {
          "base_uri": "https://localhost:8080/",
          "height": 34
        },
        "colab_type": "code",
        "id": "wugs-0sWROD_",
        "outputId": "6f618d17-5dd7-4933-d7f0-5ec4ea581a92"
      },
      "outputs": [
        {
          "data": {
            "text/plain": [
              "1"
            ]
          },
          "execution_count": 10,
          "metadata": {
            "tags": []
          },
          "output_type": "execute_result"
        }
      ],
      "source": [
        "len(labels_df.columns)"
      ]
    },
    {
      "cell_type": "code",
      "execution_count": null,
      "metadata": {
        "colab": {
          "base_uri": "https://localhost:8080/",
          "height": 34
        },
        "colab_type": "code",
        "id": "Hi_q8VZxSSsp",
        "outputId": "d0f1d93f-bdd5-4ea0-b2aa-fa3bc6f0b56a"
      },
      "outputs": [
        {
          "data": {
            "text/plain": [
              "'000001.jpg'"
            ]
          },
          "execution_count": 11,
          "metadata": {
            "tags": []
          },
          "output_type": "execute_result"
        }
      ],
      "source": [
        "(labels_df['202599'][1]).split()[0]"
      ]
    },
    {
      "cell_type": "code",
      "execution_count": null,
      "metadata": {
        "colab": {
          "base_uri": "https://localhost:8080/",
          "height": 34
        },
        "colab_type": "code",
        "id": "cOWaYPStSZcw",
        "outputId": "5318cdea-4e14-4e48-887e-76241802f389"
      },
      "outputs": [
        {
          "data": {
            "text/plain": [
              "40"
            ]
          },
          "execution_count": 12,
          "metadata": {
            "tags": []
          },
          "output_type": "execute_result"
        }
      ],
      "source": [
        "len((labels_df['202599'][1]).split()[1:])"
      ]
    },
    {
      "cell_type": "code",
      "execution_count": null,
      "metadata": {
        "colab": {
          "base_uri": "https://localhost:8080/",
          "height": 714
        },
        "colab_type": "code",
        "id": "k2bFLPBcTSiM",
        "outputId": "ed19d210-a163-47da-ec21-e20e401bbc83"
      },
      "outputs": [],
      "source": [
        "len((labels_df['202599'][0]).split()), (labels_df['202599'][0]).split()"
      ]
    },
    {
      "cell_type": "code",
      "execution_count": null,
      "metadata": {
        "colab": {
          "base_uri": "https://localhost:8080/",
          "height": 204
        },
        "colab_type": "code",
        "id": "V86deBPgTb4F",
        "outputId": "30381cf5-e9fe-4855-c5f9-787009ff65c4"
      },
      "outputs": [
        {
          "data": {
            "text/html": [
              "<div>\n",
              "<style scoped>\n",
              "    .dataframe tbody tr th:only-of-type {\n",
              "        vertical-align: middle;\n",
              "    }\n",
              "\n",
              "    .dataframe tbody tr th {\n",
              "        vertical-align: top;\n",
              "    }\n",
              "\n",
              "    .dataframe thead th {\n",
              "        text-align: right;\n",
              "    }\n",
              "</style>\n",
              "<table border=\"1\" class=\"dataframe\">\n",
              "  <thead>\n",
              "    <tr style=\"text-align: right;\">\n",
              "      <th></th>\n",
              "      <th>202599</th>\n",
              "    </tr>\n",
              "  </thead>\n",
              "  <tbody>\n",
              "    <tr>\n",
              "      <th>202595</th>\n",
              "      <td>202595.jpg -1 -1  1 -1 -1 -1  1 -1 -1  1 -1 -1...</td>\n",
              "    </tr>\n",
              "    <tr>\n",
              "      <th>202596</th>\n",
              "      <td>202596.jpg -1 -1 -1 -1 -1  1  1 -1 -1  1 -1 -1...</td>\n",
              "    </tr>\n",
              "    <tr>\n",
              "      <th>202597</th>\n",
              "      <td>202597.jpg -1 -1 -1 -1 -1 -1 -1 -1  1 -1 -1 -1...</td>\n",
              "    </tr>\n",
              "    <tr>\n",
              "      <th>202598</th>\n",
              "      <td>202598.jpg -1  1  1 -1 -1 -1  1 -1  1 -1 -1 -1...</td>\n",
              "    </tr>\n",
              "    <tr>\n",
              "      <th>202599</th>\n",
              "      <td>202599.jpg -1  1  1 -1 -1 -1 -1 -1 -1  1 -1 -1...</td>\n",
              "    </tr>\n",
              "  </tbody>\n",
              "</table>\n",
              "</div>"
            ],
            "text/plain": [
              "                                                   202599\n",
              "202595  202595.jpg -1 -1  1 -1 -1 -1  1 -1 -1  1 -1 -1...\n",
              "202596  202596.jpg -1 -1 -1 -1 -1  1  1 -1 -1  1 -1 -1...\n",
              "202597  202597.jpg -1 -1 -1 -1 -1 -1 -1 -1  1 -1 -1 -1...\n",
              "202598  202598.jpg -1  1  1 -1 -1 -1  1 -1  1 -1 -1 -1...\n",
              "202599  202599.jpg -1  1  1 -1 -1 -1 -1 -1 -1  1 -1 -1..."
            ]
          },
          "execution_count": 14,
          "metadata": {
            "tags": []
          },
          "output_type": "execute_result"
        }
      ],
      "source": [
        "labels_df.tail()"
      ]
    },
    {
      "cell_type": "code",
      "execution_count": null,
      "metadata": {
        "colab": {},
        "colab_type": "code",
        "id": "aSqew5DyTrob"
      },
      "outputs": [],
      "source": [
        "label_dict = {}\n",
        "for i in range(1, len(labels_df)):\n",
        "    label_dict[labels_df['202599'][i].split()[0]] = [x for x in labels_df['202599'][i].split()[1:]]\n",
        "    \n"
      ]
    },
    {
      "cell_type": "code",
      "execution_count": null,
      "metadata": {
        "colab": {
          "base_uri": "https://localhost:8080/",
          "height": 34
        },
        "colab_type": "code",
        "id": "0ljJxLdnT4bp",
        "outputId": "ea3f7c83-0be1-436a-a99b-8af376612f24"
      },
      "outputs": [
        {
          "data": {
            "text/plain": [
              "202599"
            ]
          },
          "execution_count": 16,
          "metadata": {
            "tags": []
          },
          "output_type": "execute_result"
        }
      ],
      "source": [
        "len(label_dict)    "
      ]
    },
    {
      "cell_type": "code",
      "execution_count": null,
      "metadata": {
        "colab": {},
        "colab_type": "code",
        "id": "_3WH_uepVJOi"
      },
      "outputs": [],
      "source": [
        "label_df = pd.DataFrame(label_dict).T"
      ]
    },
    {
      "cell_type": "code",
      "execution_count": null,
      "metadata": {
        "colab": {
          "base_uri": "https://localhost:8080/",
          "height": 224
        },
        "colab_type": "code",
        "id": "cwNAAJhhVVaU",
        "outputId": "f005aa74-2c28-49f7-e576-61a757b9d0c7"
      },
      "outputs": [
        {
          "data": {
            "text/html": [
              "<div>\n",
              "<style scoped>\n",
              "    .dataframe tbody tr th:only-of-type {\n",
              "        vertical-align: middle;\n",
              "    }\n",
              "\n",
              "    .dataframe tbody tr th {\n",
              "        vertical-align: top;\n",
              "    }\n",
              "\n",
              "    .dataframe thead th {\n",
              "        text-align: right;\n",
              "    }\n",
              "</style>\n",
              "<table border=\"1\" class=\"dataframe\">\n",
              "  <thead>\n",
              "    <tr style=\"text-align: right;\">\n",
              "      <th></th>\n",
              "      <th>0</th>\n",
              "      <th>1</th>\n",
              "      <th>2</th>\n",
              "      <th>3</th>\n",
              "      <th>4</th>\n",
              "      <th>5</th>\n",
              "      <th>6</th>\n",
              "      <th>7</th>\n",
              "      <th>8</th>\n",
              "      <th>9</th>\n",
              "      <th>10</th>\n",
              "      <th>11</th>\n",
              "      <th>12</th>\n",
              "      <th>13</th>\n",
              "      <th>14</th>\n",
              "      <th>15</th>\n",
              "      <th>16</th>\n",
              "      <th>17</th>\n",
              "      <th>18</th>\n",
              "      <th>19</th>\n",
              "      <th>20</th>\n",
              "      <th>21</th>\n",
              "      <th>22</th>\n",
              "      <th>23</th>\n",
              "      <th>24</th>\n",
              "      <th>25</th>\n",
              "      <th>26</th>\n",
              "      <th>27</th>\n",
              "      <th>28</th>\n",
              "      <th>29</th>\n",
              "      <th>30</th>\n",
              "      <th>31</th>\n",
              "      <th>32</th>\n",
              "      <th>33</th>\n",
              "      <th>34</th>\n",
              "      <th>35</th>\n",
              "      <th>36</th>\n",
              "      <th>37</th>\n",
              "      <th>38</th>\n",
              "      <th>39</th>\n",
              "    </tr>\n",
              "  </thead>\n",
              "  <tbody>\n",
              "    <tr>\n",
              "      <th>000001.jpg</th>\n",
              "      <td>-1</td>\n",
              "      <td>1</td>\n",
              "      <td>1</td>\n",
              "      <td>-1</td>\n",
              "      <td>-1</td>\n",
              "      <td>-1</td>\n",
              "      <td>-1</td>\n",
              "      <td>-1</td>\n",
              "      <td>-1</td>\n",
              "      <td>-1</td>\n",
              "      <td>-1</td>\n",
              "      <td>1</td>\n",
              "      <td>-1</td>\n",
              "      <td>-1</td>\n",
              "      <td>-1</td>\n",
              "      <td>-1</td>\n",
              "      <td>-1</td>\n",
              "      <td>-1</td>\n",
              "      <td>1</td>\n",
              "      <td>1</td>\n",
              "      <td>-1</td>\n",
              "      <td>1</td>\n",
              "      <td>-1</td>\n",
              "      <td>-1</td>\n",
              "      <td>1</td>\n",
              "      <td>-1</td>\n",
              "      <td>-1</td>\n",
              "      <td>1</td>\n",
              "      <td>-1</td>\n",
              "      <td>-1</td>\n",
              "      <td>-1</td>\n",
              "      <td>1</td>\n",
              "      <td>1</td>\n",
              "      <td>-1</td>\n",
              "      <td>1</td>\n",
              "      <td>-1</td>\n",
              "      <td>1</td>\n",
              "      <td>-1</td>\n",
              "      <td>-1</td>\n",
              "      <td>1</td>\n",
              "    </tr>\n",
              "    <tr>\n",
              "      <th>000002.jpg</th>\n",
              "      <td>-1</td>\n",
              "      <td>-1</td>\n",
              "      <td>-1</td>\n",
              "      <td>1</td>\n",
              "      <td>-1</td>\n",
              "      <td>-1</td>\n",
              "      <td>-1</td>\n",
              "      <td>1</td>\n",
              "      <td>-1</td>\n",
              "      <td>-1</td>\n",
              "      <td>-1</td>\n",
              "      <td>1</td>\n",
              "      <td>-1</td>\n",
              "      <td>-1</td>\n",
              "      <td>-1</td>\n",
              "      <td>-1</td>\n",
              "      <td>-1</td>\n",
              "      <td>-1</td>\n",
              "      <td>-1</td>\n",
              "      <td>1</td>\n",
              "      <td>-1</td>\n",
              "      <td>1</td>\n",
              "      <td>-1</td>\n",
              "      <td>-1</td>\n",
              "      <td>1</td>\n",
              "      <td>-1</td>\n",
              "      <td>-1</td>\n",
              "      <td>-1</td>\n",
              "      <td>-1</td>\n",
              "      <td>-1</td>\n",
              "      <td>-1</td>\n",
              "      <td>1</td>\n",
              "      <td>-1</td>\n",
              "      <td>-1</td>\n",
              "      <td>-1</td>\n",
              "      <td>-1</td>\n",
              "      <td>-1</td>\n",
              "      <td>-1</td>\n",
              "      <td>-1</td>\n",
              "      <td>1</td>\n",
              "    </tr>\n",
              "    <tr>\n",
              "      <th>000003.jpg</th>\n",
              "      <td>-1</td>\n",
              "      <td>-1</td>\n",
              "      <td>-1</td>\n",
              "      <td>-1</td>\n",
              "      <td>-1</td>\n",
              "      <td>-1</td>\n",
              "      <td>1</td>\n",
              "      <td>-1</td>\n",
              "      <td>-1</td>\n",
              "      <td>-1</td>\n",
              "      <td>1</td>\n",
              "      <td>-1</td>\n",
              "      <td>-1</td>\n",
              "      <td>-1</td>\n",
              "      <td>-1</td>\n",
              "      <td>-1</td>\n",
              "      <td>-1</td>\n",
              "      <td>-1</td>\n",
              "      <td>-1</td>\n",
              "      <td>-1</td>\n",
              "      <td>1</td>\n",
              "      <td>-1</td>\n",
              "      <td>-1</td>\n",
              "      <td>1</td>\n",
              "      <td>1</td>\n",
              "      <td>-1</td>\n",
              "      <td>-1</td>\n",
              "      <td>1</td>\n",
              "      <td>-1</td>\n",
              "      <td>-1</td>\n",
              "      <td>-1</td>\n",
              "      <td>-1</td>\n",
              "      <td>-1</td>\n",
              "      <td>1</td>\n",
              "      <td>-1</td>\n",
              "      <td>-1</td>\n",
              "      <td>-1</td>\n",
              "      <td>-1</td>\n",
              "      <td>-1</td>\n",
              "      <td>1</td>\n",
              "    </tr>\n",
              "    <tr>\n",
              "      <th>000004.jpg</th>\n",
              "      <td>-1</td>\n",
              "      <td>-1</td>\n",
              "      <td>1</td>\n",
              "      <td>-1</td>\n",
              "      <td>-1</td>\n",
              "      <td>-1</td>\n",
              "      <td>-1</td>\n",
              "      <td>-1</td>\n",
              "      <td>-1</td>\n",
              "      <td>-1</td>\n",
              "      <td>-1</td>\n",
              "      <td>-1</td>\n",
              "      <td>-1</td>\n",
              "      <td>-1</td>\n",
              "      <td>-1</td>\n",
              "      <td>-1</td>\n",
              "      <td>-1</td>\n",
              "      <td>-1</td>\n",
              "      <td>-1</td>\n",
              "      <td>-1</td>\n",
              "      <td>-1</td>\n",
              "      <td>-1</td>\n",
              "      <td>-1</td>\n",
              "      <td>-1</td>\n",
              "      <td>1</td>\n",
              "      <td>-1</td>\n",
              "      <td>-1</td>\n",
              "      <td>1</td>\n",
              "      <td>-1</td>\n",
              "      <td>-1</td>\n",
              "      <td>-1</td>\n",
              "      <td>-1</td>\n",
              "      <td>1</td>\n",
              "      <td>-1</td>\n",
              "      <td>1</td>\n",
              "      <td>-1</td>\n",
              "      <td>1</td>\n",
              "      <td>1</td>\n",
              "      <td>-1</td>\n",
              "      <td>1</td>\n",
              "    </tr>\n",
              "    <tr>\n",
              "      <th>000005.jpg</th>\n",
              "      <td>-1</td>\n",
              "      <td>1</td>\n",
              "      <td>1</td>\n",
              "      <td>-1</td>\n",
              "      <td>-1</td>\n",
              "      <td>-1</td>\n",
              "      <td>1</td>\n",
              "      <td>-1</td>\n",
              "      <td>-1</td>\n",
              "      <td>-1</td>\n",
              "      <td>-1</td>\n",
              "      <td>-1</td>\n",
              "      <td>-1</td>\n",
              "      <td>-1</td>\n",
              "      <td>-1</td>\n",
              "      <td>-1</td>\n",
              "      <td>-1</td>\n",
              "      <td>-1</td>\n",
              "      <td>1</td>\n",
              "      <td>-1</td>\n",
              "      <td>-1</td>\n",
              "      <td>-1</td>\n",
              "      <td>-1</td>\n",
              "      <td>1</td>\n",
              "      <td>1</td>\n",
              "      <td>-1</td>\n",
              "      <td>-1</td>\n",
              "      <td>1</td>\n",
              "      <td>-1</td>\n",
              "      <td>-1</td>\n",
              "      <td>-1</td>\n",
              "      <td>-1</td>\n",
              "      <td>-1</td>\n",
              "      <td>-1</td>\n",
              "      <td>-1</td>\n",
              "      <td>-1</td>\n",
              "      <td>1</td>\n",
              "      <td>-1</td>\n",
              "      <td>-1</td>\n",
              "      <td>1</td>\n",
              "    </tr>\n",
              "  </tbody>\n",
              "</table>\n",
              "</div>"
            ],
            "text/plain": [
              "            0   1   2   3   4   5   6   7   ...  32  33  34  35  36  37  38 39\n",
              "000001.jpg  -1   1   1  -1  -1  -1  -1  -1  ...   1  -1   1  -1   1  -1  -1  1\n",
              "000002.jpg  -1  -1  -1   1  -1  -1  -1   1  ...  -1  -1  -1  -1  -1  -1  -1  1\n",
              "000003.jpg  -1  -1  -1  -1  -1  -1   1  -1  ...  -1   1  -1  -1  -1  -1  -1  1\n",
              "000004.jpg  -1  -1   1  -1  -1  -1  -1  -1  ...   1  -1   1  -1   1   1  -1  1\n",
              "000005.jpg  -1   1   1  -1  -1  -1   1  -1  ...  -1  -1  -1  -1   1  -1  -1  1\n",
              "\n",
              "[5 rows x 40 columns]"
            ]
          },
          "execution_count": 19,
          "metadata": {
            "tags": []
          },
          "output_type": "execute_result"
        }
      ],
      "source": [
        "label_df.head()"
      ]
    },
    {
      "cell_type": "code",
      "execution_count": null,
      "metadata": {
        "colab": {},
        "colab_type": "code",
        "id": "63NgFM-NVV0k"
      },
      "outputs": [],
      "source": [
        "label_df.columns = (labels_df['202599'][0]).split()"
      ]
    },
    {
      "cell_type": "code",
      "execution_count": null,
      "metadata": {
        "colab": {},
        "colab_type": "code",
        "id": "GvxZI1FnV3Me"
      },
      "outputs": [],
      "source": [
        "label_df.replace(['-1'], ['0'], inplace = True)"
      ]
    },
    {
      "cell_type": "code",
      "execution_count": null,
      "metadata": {
        "colab": {
          "base_uri": "https://localhost:8080/",
          "height": 139
        },
        "colab_type": "code",
        "id": "SfC2KB_DV9SF",
        "outputId": "1219b942-fff0-48f1-f562-4661fd36ebe7"
      },
      "outputs": [
        {
          "data": {
            "text/plain": [
              "Index(['000001.jpg', '000002.jpg', '000003.jpg', '000004.jpg', '000005.jpg',\n",
              "       '000006.jpg', '000007.jpg', '000008.jpg', '000009.jpg', '000010.jpg',\n",
              "       ...\n",
              "       '202590.jpg', '202591.jpg', '202592.jpg', '202593.jpg', '202594.jpg',\n",
              "       '202595.jpg', '202596.jpg', '202597.jpg', '202598.jpg', '202599.jpg'],\n",
              "      dtype='object', length=202599)"
            ]
          },
          "execution_count": 22,
          "metadata": {
            "tags": []
          },
          "output_type": "execute_result"
        }
      ],
      "source": [
        "label_df.index\n"
      ]
    },
    {
      "cell_type": "code",
      "execution_count": null,
      "metadata": {
        "colab": {},
        "colab_type": "code",
        "id": "zSiZNm4hWOlx"
      },
      "outputs": [],
      "source": [
        "from PIL import Image"
      ]
    },
    {
      "cell_type": "code",
      "execution_count": null,
      "metadata": {
        "colab": {
          "base_uri": "https://localhost:8080/",
          "height": 235
        },
        "colab_type": "code",
        "id": "kWnhHWfIcuES",
        "outputId": "53752d38-688c-40a9-e919-4ab33d840fbb"
      },
      "outputs": [],
      "source": [
        "Image.open('img_align_celeba/000001.jpg')"
      ]
    },
    {
      "cell_type": "code",
      "execution_count": null,
      "metadata": {
        "colab": {},
        "colab_type": "code",
        "id": "0tEp2fg_cy_r"
      },
      "outputs": [],
      "source": [
        "from glob import glob"
      ]
    },
    {
      "cell_type": "code",
      "execution_count": null,
      "metadata": {
        "colab": {},
        "colab_type": "code",
        "id": "ub9U1uXZeDEl"
      },
      "outputs": [],
      "source": [
        "files = glob('img_align_celeba/*.jpg')"
      ]
    },
    {
      "cell_type": "code",
      "execution_count": null,
      "metadata": {
        "colab": {
          "base_uri": "https://localhost:8080/",
          "height": 34
        },
        "colab_type": "code",
        "id": "hoMMpXvBeKsT",
        "outputId": "3fa5aeb0-592f-425e-ccab-675f214f62fc"
      },
      "outputs": [
        {
          "data": {
            "text/plain": [
              "202599"
            ]
          },
          "execution_count": 27,
          "metadata": {
            "tags": []
          },
          "output_type": "execute_result"
        }
      ],
      "source": [
        "len(files)"
      ]
    },
    {
      "cell_type": "code",
      "execution_count": null,
      "metadata": {
        "colab": {},
        "colab_type": "code",
        "id": "X3X6NerheL1_"
      },
      "outputs": [],
      "source": [
        "shuffle = np.random.permutation(len(files))"
      ]
    },
    {
      "cell_type": "code",
      "execution_count": null,
      "metadata": {
        "colab": {
          "base_uri": "https://localhost:8080/",
          "height": 34
        },
        "colab_type": "code",
        "id": "uDhP24f-eUUz",
        "outputId": "7b9a987e-7e20-49c4-b281-8998b8251589"
      },
      "outputs": [
        {
          "data": {
            "text/plain": [
              "60779.7"
            ]
          },
          "execution_count": 29,
          "metadata": {
            "tags": []
          },
          "output_type": "execute_result"
        }
      ],
      "source": [
        "len(shuffle)*0.3"
      ]
    },
    {
      "cell_type": "code",
      "execution_count": null,
      "metadata": {
        "colab": {
          "base_uri": "https://localhost:8080/",
          "height": 34
        },
        "colab_type": "code",
        "id": "p3A87pPDeVgF",
        "outputId": "33bbddf7-a8d6-404d-e506-42bde4016a1d"
      },
      "outputs": [
        {
          "data": {
            "text/plain": [
              "202598"
            ]
          },
          "execution_count": 30,
          "metadata": {
            "tags": []
          },
          "output_type": "execute_result"
        }
      ],
      "source": [
        "max(shuffle)"
      ]
    },
    {
      "cell_type": "code",
      "execution_count": null,
      "metadata": {
        "colab": {},
        "colab_type": "code",
        "id": "IUbPdO8ieqyT"
      },
      "outputs": [],
      "source": [
        "for i in ['train', 'valid']:\n",
        "    os.mkdir(os.path.join('/tmp/', i))"
      ]
    },
    {
      "cell_type": "code",
      "execution_count": null,
      "metadata": {
        "colab": {
          "base_uri": "https://localhost:8080/",
          "height": 34
        },
        "colab_type": "code",
        "id": "_BJwotezpzAO",
        "outputId": "51590d24-82ac-414f-af67-b25d14aec5fa"
      },
      "outputs": [
        {
          "name": "stdout",
          "output_type": "stream",
          "text": [
            "drivefs_ipc.0  drivefs_ipc.0_shell  tmprsfzvhy3  train\tvalid\n"
          ]
        }
      ],
      "source": [
        "!ls /tmp/"
      ]
    },
    {
      "cell_type": "code",
      "execution_count": null,
      "metadata": {
        "colab": {
          "base_uri": "https://localhost:8080/",
          "height": 34
        },
        "colab_type": "code",
        "id": "Ac09TOVCp0rW",
        "outputId": "f8db561c-b083-4b98-a5b1-13fb06dce35d"
      },
      "outputs": [
        {
          "data": {
            "text/plain": [
              "'006433.jpg'"
            ]
          },
          "execution_count": 33,
          "metadata": {
            "tags": []
          },
          "output_type": "execute_result"
        }
      ],
      "source": [
        "files[10].split('/')[-1]"
      ]
    },
    {
      "cell_type": "code",
      "execution_count": null,
      "metadata": {
        "colab": {},
        "colab_type": "code",
        "id": "-yas6hE4p4Rn"
      },
      "outputs": [],
      "source": [
        "# label_df.find(files[10].split('/')[-1])"
      ]
    },
    {
      "cell_type": "code",
      "execution_count": null,
      "metadata": {
        "colab": {
          "base_uri": "https://localhost:8080/",
          "height": 34
        },
        "colab_type": "code",
        "id": "3X6EoGGRqVCc",
        "outputId": "8c351db8-c01f-4b83-e460-a492cbec4c73"
      },
      "outputs": [
        {
          "data": {
            "text/plain": [
              "(1, 40)"
            ]
          },
          "execution_count": 35,
          "metadata": {
            "tags": []
          },
          "output_type": "execute_result"
        }
      ],
      "source": [
        "((np.array(label_df[label_df.index==files[10].split('/')[-1]]))).shape"
      ]
    },
    {
      "cell_type": "code",
      "execution_count": null,
      "metadata": {
        "colab": {},
        "colab_type": "code",
        "id": "FDBkjlLQi2My"
      },
      "outputs": [],
      "source": [
        "from tqdm import tqdm"
      ]
    },
    {
      "cell_type": "code",
      "execution_count": null,
      "metadata": {
        "colab": {
          "base_uri": "https://localhost:8080/",
          "height": 34
        },
        "colab_type": "code",
        "id": "fH0BvMIOr0jT",
        "outputId": "a4613fae-0c50-4f5e-b0ce-d992834f7fc5"
      },
      "outputs": [
        {
          "name": "stderr",
          "output_type": "stream",
          "text": [
            "100%|██████████| 6000/6000 [01:08<00:00, 87.28it/s]\n"
          ]
        }
      ],
      "source": [
        "valid_dict = {}\n",
        "valid_file_names = []\n",
        "for i in tqdm(shuffle[:6000]):\n",
        "    file_name = files[i].split('/')[-1]\n",
        "    labels = np.array(label_df[label_df.index==file_name])\n",
        "    valid_dict[file_name] = labels\n",
        "    valid_file_names.append(file_name)\n",
        "    os.rename(files[i], os.path.join('/tmp/', '/tmp/valid', file_name))"
      ]
    },
    {
      "cell_type": "code",
      "execution_count": null,
      "metadata": {
        "colab": {
          "base_uri": "https://localhost:8080/",
          "height": 34
        },
        "colab_type": "code",
        "id": "D-9lUHGSswRa",
        "outputId": "5d85fa1c-9f84-4d99-f1c2-bb887a821c8b"
      },
      "outputs": [
        {
          "data": {
            "text/plain": [
              "6000"
            ]
          },
          "execution_count": 38,
          "metadata": {
            "tags": []
          },
          "output_type": "execute_result"
        }
      ],
      "source": [
        "len(glob('/tmp/valid/*.jpg'))"
      ]
    },
    {
      "cell_type": "code",
      "execution_count": null,
      "metadata": {
        "colab": {},
        "colab_type": "code",
        "id": "YiU9sA4ZxnKJ"
      },
      "outputs": [],
      "source": [
        "# Image.open('/tmp/valid/000004.jpg')"
      ]
    },
    {
      "cell_type": "code",
      "execution_count": null,
      "metadata": {
        "colab": {},
        "colab_type": "code",
        "id": "XdvxIjYzxtBH"
      },
      "outputs": [],
      "source": [
        "# valid_dict.values()"
      ]
    },
    {
      "cell_type": "code",
      "execution_count": null,
      "metadata": {
        "colab": {},
        "colab_type": "code",
        "id": "yso9Nhrcxv8Q"
      },
      "outputs": [],
      "source": [
        "valid_df = pd.DataFrame(valid_dict.values())"
      ]
    },
    {
      "cell_type": "code",
      "execution_count": null,
      "metadata": {
        "colab": {
          "base_uri": "https://localhost:8080/",
          "height": 204
        },
        "colab_type": "code",
        "id": "dspEU2TVxzGU",
        "outputId": "b263ac8d-e439-4770-83cf-2eae25e18bd1"
      },
      "outputs": [
        {
          "data": {
            "text/html": [
              "<div>\n",
              "<style scoped>\n",
              "    .dataframe tbody tr th:only-of-type {\n",
              "        vertical-align: middle;\n",
              "    }\n",
              "\n",
              "    .dataframe tbody tr th {\n",
              "        vertical-align: top;\n",
              "    }\n",
              "\n",
              "    .dataframe thead th {\n",
              "        text-align: right;\n",
              "    }\n",
              "</style>\n",
              "<table border=\"1\" class=\"dataframe\">\n",
              "  <thead>\n",
              "    <tr style=\"text-align: right;\">\n",
              "      <th></th>\n",
              "      <th>0</th>\n",
              "    </tr>\n",
              "  </thead>\n",
              "  <tbody>\n",
              "    <tr>\n",
              "      <th>0</th>\n",
              "      <td>[[1, 0, 0, 0, 0, 0, 0, 0, 1, 0, 1, 0, 0, 0, 0,...</td>\n",
              "    </tr>\n",
              "    <tr>\n",
              "      <th>1</th>\n",
              "      <td>[[0, 0, 0, 0, 0, 0, 0, 0, 1, 0, 0, 0, 0, 0, 0,...</td>\n",
              "    </tr>\n",
              "    <tr>\n",
              "      <th>2</th>\n",
              "      <td>[[0, 0, 1, 0, 0, 0, 0, 0, 0, 0, 0, 1, 0, 0, 0,...</td>\n",
              "    </tr>\n",
              "    <tr>\n",
              "      <th>3</th>\n",
              "      <td>[[0, 1, 0, 0, 0, 0, 0, 0, 0, 1, 0, 0, 0, 0, 0,...</td>\n",
              "    </tr>\n",
              "    <tr>\n",
              "      <th>4</th>\n",
              "      <td>[[0, 0, 1, 0, 0, 1, 0, 0, 0, 1, 0, 0, 0, 0, 0,...</td>\n",
              "    </tr>\n",
              "  </tbody>\n",
              "</table>\n",
              "</div>"
            ],
            "text/plain": [
              "                                                   0\n",
              "0  [[1, 0, 0, 0, 0, 0, 0, 0, 1, 0, 1, 0, 0, 0, 0,...\n",
              "1  [[0, 0, 0, 0, 0, 0, 0, 0, 1, 0, 0, 0, 0, 0, 0,...\n",
              "2  [[0, 0, 1, 0, 0, 0, 0, 0, 0, 0, 0, 1, 0, 0, 0,...\n",
              "3  [[0, 1, 0, 0, 0, 0, 0, 0, 0, 1, 0, 0, 0, 0, 0,...\n",
              "4  [[0, 0, 1, 0, 0, 1, 0, 0, 0, 1, 0, 0, 0, 0, 0,..."
            ]
          },
          "execution_count": 42,
          "metadata": {
            "tags": []
          },
          "output_type": "execute_result"
        }
      ],
      "source": [
        "valid_df.head()"
      ]
    },
    {
      "cell_type": "code",
      "execution_count": null,
      "metadata": {
        "colab": {},
        "colab_type": "code",
        "id": "nqRdIOSby9_S"
      },
      "outputs": [],
      "source": [
        "valid_df.index = valid_file_names"
      ]
    },
    {
      "cell_type": "code",
      "execution_count": null,
      "metadata": {
        "colab": {
          "base_uri": "https://localhost:8080/",
          "height": 204
        },
        "colab_type": "code",
        "id": "0ajO-1PfzDAJ",
        "outputId": "02d0d081-8aa6-448d-ae90-cc9cd3f906d8"
      },
      "outputs": [
        {
          "data": {
            "text/html": [
              "<div>\n",
              "<style scoped>\n",
              "    .dataframe tbody tr th:only-of-type {\n",
              "        vertical-align: middle;\n",
              "    }\n",
              "\n",
              "    .dataframe tbody tr th {\n",
              "        vertical-align: top;\n",
              "    }\n",
              "\n",
              "    .dataframe thead th {\n",
              "        text-align: right;\n",
              "    }\n",
              "</style>\n",
              "<table border=\"1\" class=\"dataframe\">\n",
              "  <thead>\n",
              "    <tr style=\"text-align: right;\">\n",
              "      <th></th>\n",
              "      <th>0</th>\n",
              "    </tr>\n",
              "  </thead>\n",
              "  <tbody>\n",
              "    <tr>\n",
              "      <th>064465.jpg</th>\n",
              "      <td>[[1, 0, 0, 0, 0, 0, 0, 0, 1, 0, 1, 0, 0, 0, 0,...</td>\n",
              "    </tr>\n",
              "    <tr>\n",
              "      <th>013351.jpg</th>\n",
              "      <td>[[0, 0, 0, 0, 0, 0, 0, 0, 1, 0, 0, 0, 0, 0, 0,...</td>\n",
              "    </tr>\n",
              "    <tr>\n",
              "      <th>000263.jpg</th>\n",
              "      <td>[[0, 0, 1, 0, 0, 0, 0, 0, 0, 0, 0, 1, 0, 0, 0,...</td>\n",
              "    </tr>\n",
              "    <tr>\n",
              "      <th>152775.jpg</th>\n",
              "      <td>[[0, 1, 0, 0, 0, 0, 0, 0, 0, 1, 0, 0, 0, 0, 0,...</td>\n",
              "    </tr>\n",
              "    <tr>\n",
              "      <th>184761.jpg</th>\n",
              "      <td>[[0, 0, 1, 0, 0, 1, 0, 0, 0, 1, 0, 0, 0, 0, 0,...</td>\n",
              "    </tr>\n",
              "  </tbody>\n",
              "</table>\n",
              "</div>"
            ],
            "text/plain": [
              "                                                            0\n",
              "064465.jpg  [[1, 0, 0, 0, 0, 0, 0, 0, 1, 0, 1, 0, 0, 0, 0,...\n",
              "013351.jpg  [[0, 0, 0, 0, 0, 0, 0, 0, 1, 0, 0, 0, 0, 0, 0,...\n",
              "000263.jpg  [[0, 0, 1, 0, 0, 0, 0, 0, 0, 0, 0, 1, 0, 0, 0,...\n",
              "152775.jpg  [[0, 1, 0, 0, 0, 0, 0, 0, 0, 1, 0, 0, 0, 0, 0,...\n",
              "184761.jpg  [[0, 0, 1, 0, 0, 1, 0, 0, 0, 1, 0, 0, 0, 0, 0,..."
            ]
          },
          "execution_count": 44,
          "metadata": {
            "tags": []
          },
          "output_type": "execute_result"
        }
      ],
      "source": [
        "valid_df.head()"
      ]
    },
    {
      "cell_type": "code",
      "execution_count": null,
      "metadata": {
        "colab": {},
        "colab_type": "code",
        "id": "mX37QruszEMF"
      },
      "outputs": [],
      "source": [
        "valid_df.columns = ['labels']"
      ]
    },
    {
      "cell_type": "code",
      "execution_count": null,
      "metadata": {
        "colab": {},
        "colab_type": "code",
        "id": "xD_6ZiiizM8h"
      },
      "outputs": [],
      "source": [
        "                    # (valid_df.labels[valid_df.index == '130656.jpg'].values.tolist()[0]).astype(float), ((valid_df.labels[valid_df.index == '130656.jpg'].values.tolist()[0]).astype(float)).shape"
      ]
    },
    {
      "cell_type": "code",
      "execution_count": null,
      "metadata": {
        "colab": {
          "base_uri": "https://localhost:8080/",
          "height": 34
        },
        "colab_type": "code",
        "id": "xGeCp_hRz7dA",
        "outputId": "5d435cbd-07cd-496b-916f-afabba84d849"
      },
      "outputs": [
        {
          "name": "stderr",
          "output_type": "stream",
          "text": [
            "100%|██████████| 12000/12000 [02:17<00:00, 87.05it/s]\n"
          ]
        }
      ],
      "source": [
        "train_dict = {}\n",
        "train_file_names = []\n",
        "for i in tqdm(shuffle[6000:18000 ]):\n",
        "    file_name = files[i].split('/')[-1]\n",
        "    labels = np.array(label_df[label_df.index==file_name])\n",
        "    train_dict[file_name] = labels\n",
        "    train_file_names.append(file_name)\n",
        "    os.rename(files[i], os.path.join('/tmp/', '/tmp/train', file_name))"
      ]
    },
    {
      "cell_type": "code",
      "execution_count": null,
      "metadata": {
        "colab": {
          "base_uri": "https://localhost:8080/",
          "height": 34
        },
        "colab_type": "code",
        "id": "2qIBO9343hBc",
        "outputId": "90bbf618-a3dc-47e1-ec0e-98f209ec0072"
      },
      "outputs": [
        {
          "data": {
            "text/plain": [
              "12000"
            ]
          },
          "execution_count": 48,
          "metadata": {
            "tags": []
          },
          "output_type": "execute_result"
        }
      ],
      "source": [
        "len(train_dict)"
      ]
    },
    {
      "cell_type": "code",
      "execution_count": null,
      "metadata": {
        "colab": {},
        "colab_type": "code",
        "id": "yBDEaBsZISmZ"
      },
      "outputs": [],
      "source": [
        "train_df = pd.DataFrame(train_dict.values())"
      ]
    },
    {
      "cell_type": "code",
      "execution_count": null,
      "metadata": {
        "colab": {
          "base_uri": "https://localhost:8080/",
          "height": 204
        },
        "colab_type": "code",
        "id": "wPBzZBRKIe5v",
        "outputId": "64e516a8-275d-450f-df19-72c523314f6e"
      },
      "outputs": [
        {
          "data": {
            "text/html": [
              "<div>\n",
              "<style scoped>\n",
              "    .dataframe tbody tr th:only-of-type {\n",
              "        vertical-align: middle;\n",
              "    }\n",
              "\n",
              "    .dataframe tbody tr th {\n",
              "        vertical-align: top;\n",
              "    }\n",
              "\n",
              "    .dataframe thead th {\n",
              "        text-align: right;\n",
              "    }\n",
              "</style>\n",
              "<table border=\"1\" class=\"dataframe\">\n",
              "  <thead>\n",
              "    <tr style=\"text-align: right;\">\n",
              "      <th></th>\n",
              "      <th>0</th>\n",
              "    </tr>\n",
              "  </thead>\n",
              "  <tbody>\n",
              "    <tr>\n",
              "      <th>0</th>\n",
              "      <td>[[0, 0, 0, 1, 0, 0, 1, 1, 0, 0, 0, 0, 0, 1, 1,...</td>\n",
              "    </tr>\n",
              "    <tr>\n",
              "      <th>1</th>\n",
              "      <td>[[0, 1, 1, 1, 0, 0, 0, 0, 1, 0, 0, 0, 0, 0, 0,...</td>\n",
              "    </tr>\n",
              "    <tr>\n",
              "      <th>2</th>\n",
              "      <td>[[0, 1, 1, 0, 0, 0, 0, 0, 1, 0, 0, 0, 0, 0, 0,...</td>\n",
              "    </tr>\n",
              "    <tr>\n",
              "      <th>3</th>\n",
              "      <td>[[0, 0, 0, 0, 0, 0, 0, 0, 0, 0, 0, 0, 1, 0, 0,...</td>\n",
              "    </tr>\n",
              "    <tr>\n",
              "      <th>4</th>\n",
              "      <td>[[0, 0, 0, 0, 0, 1, 0, 0, 0, 0, 0, 0, 0, 0, 0,...</td>\n",
              "    </tr>\n",
              "  </tbody>\n",
              "</table>\n",
              "</div>"
            ],
            "text/plain": [
              "                                                   0\n",
              "0  [[0, 0, 0, 1, 0, 0, 1, 1, 0, 0, 0, 0, 0, 1, 1,...\n",
              "1  [[0, 1, 1, 1, 0, 0, 0, 0, 1, 0, 0, 0, 0, 0, 0,...\n",
              "2  [[0, 1, 1, 0, 0, 0, 0, 0, 1, 0, 0, 0, 0, 0, 0,...\n",
              "3  [[0, 0, 0, 0, 0, 0, 0, 0, 0, 0, 0, 0, 1, 0, 0,...\n",
              "4  [[0, 0, 0, 0, 0, 1, 0, 0, 0, 0, 0, 0, 0, 0, 0,..."
            ]
          },
          "execution_count": 50,
          "metadata": {
            "tags": []
          },
          "output_type": "execute_result"
        }
      ],
      "source": [
        "train_df.head()"
      ]
    },
    {
      "cell_type": "code",
      "execution_count": null,
      "metadata": {
        "colab": {},
        "colab_type": "code",
        "id": "gHH2MAcRIgPc"
      },
      "outputs": [],
      "source": [
        "train_df.index = train_file_names"
      ]
    },
    {
      "cell_type": "code",
      "execution_count": null,
      "metadata": {
        "colab": {},
        "colab_type": "code",
        "id": "WJVlRWDmImNS"
      },
      "outputs": [],
      "source": [
        "train_df.columns = ['labels']"
      ]
    },
    {
      "cell_type": "markdown",
      "metadata": {
        "colab_type": "text",
        "id": "C32Ci-34Fppk"
      },
      "source": [
        "# Generating Batches and Training"
      ]
    },
    {
      "cell_type": "code",
      "execution_count": null,
      "metadata": {
        "colab": {},
        "colab_type": "code",
        "id": "uH3EL725rYm6"
      },
      "outputs": [],
      "source": [
        "import torchvision"
      ]
    },
    {
      "cell_type": "code",
      "execution_count": null,
      "metadata": {
        "colab": {},
        "colab_type": "code",
        "id": "LXML6_A0L3Pu"
      },
      "outputs": [],
      "source": [
        "from glob import glob\n",
        "import os\n",
        "import matplotlib.pyplot as plt\n",
        "from torchvision import transforms\n",
        "from torchvision import models\n",
        "import torch\n",
        "from torch.autograd import Variable\n",
        "import torch.nn as nn\n",
        "from torch.optim import lr_scheduler\n",
        "from torch import optim\n",
        "from torchvision.utils import make_grid\n",
        "import time\n",
        "%matplotlib inline"
      ]
    },
    {
      "cell_type": "code",
      "execution_count": null,
      "metadata": {
        "colab": {},
        "colab_type": "code",
        "id": "IGy_I0ovL7RE"
      },
      "outputs": [],
      "source": [
        "from torch.utils.data import Dataset"
      ]
    },
    {
      "cell_type": "code",
      "execution_count": null,
      "metadata": {
        "colab": {},
        "colab_type": "code",
        "id": "7htP_GRYIou5"
      },
      "outputs": [],
      "source": [
        "class MultiClassCelebA(Dataset):\n",
        "    \n",
        "    def __init__(self, dataframe, folder_dir, transform = None):\n",
        "        \n",
        "        self.dataframe = dataframe\n",
        "        self.folder_dir = folder_dir\n",
        "        self.transform = transform\n",
        "        self.file_names = dataframe.index\n",
        "        self.labels = dataframe.labels.values.tolist()\n",
        "        \n",
        "        \n",
        "    def __len__(self):\n",
        "        return len(self.dataframe)\n",
        "    \n",
        "    \n",
        "    def __getitem__(self, index):\n",
        "        \n",
        "        image = Image.open(os.path.join(self.folder_dir, self.file_names[index]))\n",
        "        label = self.labels[index][0]\n",
        "        sample = {'image': image, 'label': label.astype(float)}\n",
        "        if self.transform:\n",
        "            image = self.transform(sample['image'])\n",
        "            sample = {'image': image, 'label': label.astype(float)}\n",
        "        \n",
        "        return sample\n",
        "        \n",
        "        \n",
        "        "
      ]
    },
    {
      "cell_type": "code",
      "execution_count": null,
      "metadata": {
        "colab": {},
        "colab_type": "code",
        "id": "320blHDsFkob"
      },
      "outputs": [],
      "source": [
        "tfms = transforms.Compose([transforms.Resize((256, 256)),\n",
        "                           transforms.ToTensor()])"
      ]
    },
    {
      "cell_type": "code",
      "execution_count": null,
      "metadata": {
        "colab": {},
        "colab_type": "code",
        "id": "5oOC9jzKPx--"
      },
      "outputs": [],
      "source": [
        "train_dl = MultiClassCelebA(train_df, '/tmp/train/', transform = tfms)"
      ]
    },
    {
      "cell_type": "code",
      "execution_count": null,
      "metadata": {
        "colab": {},
        "colab_type": "code",
        "id": "7ZAefqQTQgnt"
      },
      "outputs": [],
      "source": [
        "# plt.imshow((train_dl[1]['image']).reshape(3, 256, 256))"
      ]
    },
    {
      "cell_type": "code",
      "execution_count": null,
      "metadata": {
        "colab": {
          "base_uri": "https://localhost:8080/",
          "height": 286
        },
        "colab_type": "code",
        "id": "xb-Ko1FUQ77f",
        "outputId": "7e5c4a8b-4e02-4f61-8696-1e5c2bb6421d"
      },
      "outputs": [],
      "source": [
        "plt.imshow(torchvision.utils.make_grid(train_dl[1]['image']).permute(1, 2, 0))"
      ]
    },
    {
      "cell_type": "code",
      "execution_count": null,
      "metadata": {
        "colab": {
          "base_uri": "https://localhost:8080/",
          "height": 88
        },
        "colab_type": "code",
        "id": "5ak-SsNTSdiF",
        "outputId": "a6bd142a-f5ad-4ae8-9d24-e504dd6016b8"
      },
      "outputs": [
        {
          "data": {
            "text/plain": [
              "array([0., 1., 1., 1., 0., 0., 0., 0., 1., 0., 0., 0., 0., 0., 0., 0., 0.,\n",
              "       0., 1., 1., 0., 1., 0., 1., 1., 0., 0., 0., 0., 0., 0., 1., 0., 1.,\n",
              "       1., 0., 1., 0., 0., 1.])"
            ]
          },
          "execution_count": 61,
          "metadata": {
            "tags": []
          },
          "output_type": "execute_result"
        }
      ],
      "source": [
        "(train_dl[1]['label'].astype(float))"
      ]
    },
    {
      "cell_type": "code",
      "execution_count": null,
      "metadata": {
        "colab": {
          "base_uri": "https://localhost:8080/",
          "height": 207
        },
        "colab_type": "code",
        "id": "5l8B1AJBSuSS",
        "outputId": "147ee131-b95a-4a99-9c0f-7e4b7de0dcc4"
      },
      "outputs": [
        {
          "data": {
            "text/plain": [
              "Index(['5_o_Clock_Shadow', 'Arched_Eyebrows', 'Attractive', 'Bags_Under_Eyes',\n",
              "       'Bald', 'Bangs', 'Big_Lips', 'Big_Nose', 'Black_Hair', 'Blond_Hair',\n",
              "       'Blurry', 'Brown_Hair', 'Bushy_Eyebrows', 'Chubby', 'Double_Chin',\n",
              "       'Eyeglasses', 'Goatee', 'Gray_Hair', 'Heavy_Makeup', 'High_Cheekbones',\n",
              "       'Male', 'Mouth_Slightly_Open', 'Mustache', 'Narrow_Eyes', 'No_Beard',\n",
              "       'Oval_Face', 'Pale_Skin', 'Pointy_Nose', 'Receding_Hairline',\n",
              "       'Rosy_Cheeks', 'Sideburns', 'Smiling', 'Straight_Hair', 'Wavy_Hair',\n",
              "       'Wearing_Earrings', 'Wearing_Hat', 'Wearing_Lipstick',\n",
              "       'Wearing_Necklace', 'Wearing_Necktie', 'Young'],\n",
              "      dtype='object')"
            ]
          },
          "execution_count": 62,
          "metadata": {
            "tags": []
          },
          "output_type": "execute_result"
        }
      ],
      "source": [
        "label_df.columns"
      ]
    },
    {
      "cell_type": "code",
      "execution_count": null,
      "metadata": {
        "colab": {},
        "colab_type": "code",
        "id": "Ug0_1LgVTAn2"
      },
      "outputs": [],
      "source": [
        "valid_dl = MultiClassCelebA(valid_df, '/tmp/valid/', transform = tfms)"
      ]
    },
    {
      "cell_type": "code",
      "execution_count": null,
      "metadata": {
        "colab": {
          "base_uri": "https://localhost:8080/",
          "height": 286
        },
        "colab_type": "code",
        "id": "7RpnZ8nkUYOa",
        "outputId": "bb9ba11c-eef5-484c-bd95-f9d3f3b29a15"
      },
      "outputs": [],
      "source": [
        "plt.imshow(torchvision.utils.make_grid(valid_dl[1]['image']).permute(1,2,0))"
      ]
    },
    {
      "cell_type": "code",
      "execution_count": null,
      "metadata": {
        "colab": {
          "base_uri": "https://localhost:8080/",
          "height": 88
        },
        "colab_type": "code",
        "id": "qYx0PctxU38b",
        "outputId": "4c3c1ccd-8b5b-4db5-ea01-6c7038995c11"
      },
      "outputs": [
        {
          "data": {
            "text/plain": [
              "array([0., 0., 0., 0., 0., 0., 0., 0., 1., 0., 0., 0., 0., 0., 0., 0., 0.,\n",
              "       0., 1., 1., 0., 1., 0., 0., 1., 1., 0., 0., 0., 1., 0., 1., 0., 1.,\n",
              "       0., 0., 1., 0., 0., 1.])"
            ]
          },
          "execution_count": 65,
          "metadata": {
            "tags": []
          },
          "output_type": "execute_result"
        }
      ],
      "source": [
        "valid_dl[1]['label']"
      ]
    },
    {
      "cell_type": "code",
      "execution_count": null,
      "metadata": {
        "colab": {},
        "colab_type": "code",
        "id": "C6pjWLkPVImv"
      },
      "outputs": [],
      "source": [
        "import torch.nn.functional as F"
      ]
    },
    {
      "cell_type": "code",
      "execution_count": null,
      "metadata": {
        "colab": {},
        "colab_type": "code",
        "id": "oC_7CQyUU7h4"
      },
      "outputs": [],
      "source": [
        "class MultiClassifier(nn.Module):\n",
        "    def __init__(self):\n",
        "        super(MultiClassifier, self).__init__()\n",
        "        self.ConvLayer1 = nn.Sequential(\n",
        "            nn.Conv2d(3, 64, 3), # 3, 256, 256\n",
        "            nn.MaxPool2d(2), # op: 16, 127, 127\n",
        "            nn.ReLU(), # op: 64, 127, 127\n",
        "        )\n",
        "        self.ConvLayer2 = nn.Sequential(\n",
        "            nn.Conv2d(64, 128, 3), # 64, 127, 127   \n",
        "            nn.MaxPool2d(2), #op: 128, 63, 63\n",
        "            nn.ReLU() # op: 128, 63, 63\n",
        "        )\n",
        "        self.ConvLayer3 = nn.Sequential(\n",
        "            nn.Conv2d(128, 256, 3), # 128, 63, 63\n",
        "            nn.MaxPool2d(2), #op: 256, 30, 30\n",
        "            nn.ReLU() #op: 256, 30, 30\n",
        "        )\n",
        "        self.ConvLayer4 = nn.Sequential(\n",
        "            nn.Conv2d(256, 512, 3), # 256, 30, 30\n",
        "            nn.MaxPool2d(2), #op: 512, 14, 14\n",
        "            nn.ReLU(), #op: 512, 14, 14\n",
        "            nn.Dropout(0.2)\n",
        "        )\n",
        "        self.Linear1 = nn.Linear(512 * 14 * 14, 1024)\n",
        "        self.Linear2 = nn.Linear(1024, 256)\n",
        "        self.Linear3 = nn.Linear(256, 40)\n",
        "        \n",
        "        \n",
        "    def forward(self, x):\n",
        "        x = self.ConvLayer1(x)\n",
        "        x = self.ConvLayer2(x)\n",
        "        x = self.ConvLayer3(x)\n",
        "        x = self.ConvLayer4(x)\n",
        "        x = x.view(x.size(0), -1)\n",
        "        x = self.Linear1(x)\n",
        "        x = self.Linear2(x)\n",
        "        x = self.Linear3(x)\n",
        "        return F.sigmoid(x)"
      ]
    },
    {
      "cell_type": "code",
      "execution_count": null,
      "metadata": {
        "colab": {},
        "colab_type": "code",
        "id": "eIqeGgyEVKTF"
      },
      "outputs": [],
      "source": [
        "def check_cuda():\n",
        "    _cuda = False\n",
        "    if torch.cuda.is_available():\n",
        "        _cuda = True\n",
        "    return _cuda"
      ]
    },
    {
      "cell_type": "code",
      "execution_count": null,
      "metadata": {
        "colab": {},
        "colab_type": "code",
        "id": "-r2QrdspVMWK"
      },
      "outputs": [],
      "source": [
        "is_cuda = check_cuda()"
      ]
    },
    {
      "cell_type": "code",
      "execution_count": null,
      "metadata": {
        "colab": {},
        "colab_type": "code",
        "id": "ZCSiMgDEVO2I"
      },
      "outputs": [],
      "source": [
        "model = MultiClassifier()\n",
        "if is_cuda:\n",
        "    model.cuda()"
      ]
    },
    {
      "cell_type": "code",
      "execution_count": null,
      "metadata": {
        "colab": {},
        "colab_type": "code",
        "id": "HyMUQH_SVQvV"
      },
      "outputs": [],
      "source": [
        "train_dataloader = torch.utils.data.DataLoader(train_dl, shuffle = True, batch_size = 64, num_workers = 3)\n",
        "valid_dataloader = torch.utils.data.DataLoader(valid_dl, shuffle = True, batch_size = 64, num_workers = 3)"
      ]
    },
    {
      "cell_type": "code",
      "execution_count": null,
      "metadata": {
        "colab": {},
        "colab_type": "code",
        "id": "B_zLsj8qdeuo"
      },
      "outputs": [],
      "source": [
        "def pred_acc(original, predicted):\n",
        "    return torch.round(predicted).eq(original).sum().numpy()/len(original)"
      ]
    },
    {
      "cell_type": "code",
      "execution_count": null,
      "metadata": {
        "colab": {},
        "colab_type": "code",
        "id": "JNVKy1rUAHN6"
      },
      "outputs": [],
      "source": [
        "criterion = nn.BCELoss()\n",
        "optimizer = optim.SGD(model.parameters(), lr = 0.001, momentum = 0.9)\n"
      ]
    },
    {
      "cell_type": "code",
      "execution_count": null,
      "metadata": {
        "colab": {},
        "colab_type": "code",
        "id": "7gL2huUIqy3U"
      },
      "outputs": [],
      "source": [
        "from pprint import pprint"
      ]
    },
    {
      "cell_type": "code",
      "execution_count": null,
      "metadata": {
        "colab": {},
        "colab_type": "code",
        "id": "zQq0u4ABpW1E"
      },
      "outputs": [],
      "source": [
        "def fit_model(epochs, model, dataloader, phase = 'training', volatile = False):\n",
        "    \n",
        "    pprint(\"Epoch: {}\".format(epochs))\n",
        "\n",
        "    if phase == 'training':\n",
        "        model.train()\n",
        "        \n",
        "    if phase == 'validataion':\n",
        "        model.eval()\n",
        "        volatile = True\n",
        "        \n",
        "    running_loss = []\n",
        "    running_acc = []\n",
        "    b = 0\n",
        "    for i, data in enumerate(dataloader):\n",
        "        \n",
        "\n",
        "        inputs, target = data['image'].cuda(), data['label'].float().cuda()\n",
        "        \n",
        "        inputs, target = Variable(inputs), Variable(target)\n",
        "        \n",
        "        if phase == 'training':\n",
        "            optimizer.zero_grad()\n",
        "            \n",
        "        ops = model(inputs)\n",
        "        \n",
        "        acc_ = []\n",
        "        for i, d in enumerate(ops, 0):\n",
        "           \n",
        "            acc = pred_acc(torch.Tensor.cpu(target[i]), torch.Tensor.cpu(d))\n",
        "            acc_.append(acc)\n",
        "\n",
        "        loss = criterion(ops, target)\n",
        "                \n",
        "        running_loss.append(loss.item())\n",
        "        running_acc.append(np.asarray(acc_).mean())\n",
        "        b += 1\n",
        "       \n",
        "        if phase == 'training':\n",
        "            \n",
        "            loss.backward()\n",
        "        \n",
        "            optimizer.step()\n",
        "            \n",
        "    total_batch_loss = np.asarray(running_loss).mean()\n",
        "    total_batch_acc = np.asarray(running_acc).mean()\n",
        "    \n",
        "\n",
        "    pprint(\"{} loss is {} \".format(phase,total_batch_loss))\n",
        "    pprint(\"{} accuracy is {} \".format(phase, total_batch_acc))\n",
        "    \n",
        "    return total_batch_loss, total_batch_acc"
      ]
    },
    {
      "cell_type": "code",
      "execution_count": null,
      "metadata": {
        "colab": {},
        "colab_type": "code",
        "id": "ut5r3gaXr3ny"
      },
      "outputs": [],
      "source": [
        "trn_losses = []; trn_acc = []\n",
        "val_losses = []; val_acc = []\n",
        "for i in tqdm(range(1, 20)):\n",
        "    trn_l, trn_a = fit_model(i, model, train_dataloader)\n",
        "    val_l, val_a = fit_model(i, model, valid_dataloader, phase = 'validation')\n",
        "    trn_losses.append(trn_l); trn_acc.append(trn_a)\n",
        "    val_losses.append(val_l); val_acc.append(val_a)"
      ]
    },
    {
      "cell_type": "code",
      "execution_count": null,
      "metadata": {
        "colab": {
          "base_uri": "https://localhost:8080/",
          "height": 275
        },
        "colab_type": "code",
        "id": "dLwrB2AsVI21",
        "outputId": "37e2c9bc-17a4-48cf-d73c-a63253a5ebad"
      },
      "outputs": [
        {
          "name": "stderr",
          "output_type": "stream",
          "text": [
            "/usr/local/lib/python3.6/dist-packages/torch/serialization.py:292: UserWarning: Couldn't retrieve source code for container of type MultiClassifier. It won't be checked for correctness upon loading.\n",
            "  \"type \" + obj.__name__ + \". It won't be checked \"\n",
            "/usr/local/lib/python3.6/dist-packages/torch/serialization.py:292: UserWarning: Couldn't retrieve source code for container of type Sequential. It won't be checked for correctness upon loading.\n",
            "  \"type \" + obj.__name__ + \". It won't be checked \"\n",
            "/usr/local/lib/python3.6/dist-packages/torch/serialization.py:292: UserWarning: Couldn't retrieve source code for container of type Conv2d. It won't be checked for correctness upon loading.\n",
            "  \"type \" + obj.__name__ + \". It won't be checked \"\n",
            "/usr/local/lib/python3.6/dist-packages/torch/serialization.py:292: UserWarning: Couldn't retrieve source code for container of type MaxPool2d. It won't be checked for correctness upon loading.\n",
            "  \"type \" + obj.__name__ + \". It won't be checked \"\n",
            "/usr/local/lib/python3.6/dist-packages/torch/serialization.py:292: UserWarning: Couldn't retrieve source code for container of type ReLU. It won't be checked for correctness upon loading.\n",
            "  \"type \" + obj.__name__ + \". It won't be checked \"\n",
            "/usr/local/lib/python3.6/dist-packages/torch/serialization.py:292: UserWarning: Couldn't retrieve source code for container of type Dropout. It won't be checked for correctness upon loading.\n",
            "  \"type \" + obj.__name__ + \". It won't be checked \"\n",
            "/usr/local/lib/python3.6/dist-packages/torch/serialization.py:292: UserWarning: Couldn't retrieve source code for container of type Linear. It won't be checked for correctness upon loading.\n",
            "  \"type \" + obj.__name__ + \". It won't be checked \"\n"
          ]
        }
      ],
      "source": [
        "torch.save(model, \"Model_40_total_EPCHS\")"
      ]
    }
  ],
  "metadata": {
    "accelerator": "GPU",
    "colab": {
      "collapsed_sections": [],
      "name": " CelebA_Classification_PyTorch_Github",
      "provenance": []
    },
    "kernelspec": {
      "display_name": "Python 3",
      "name": "python3"
    }
  },
  "nbformat": 4,
  "nbformat_minor": 0
}
