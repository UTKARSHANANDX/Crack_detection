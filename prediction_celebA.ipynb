{
  "cells": [
    {
      "cell_type": "code",
      "execution_count": null,
      "metadata": {
        "colab": {},
        "colab_type": "code",
        "id": "hF_epVBGrpmU"
      },
      "outputs": [],
      "source": [
        "labels = ['No Crack', 'Low' , 'Mild' , 'Severe']"
      ]
    },
    {
      "cell_type": "code",
      "execution_count": null,
      "metadata": {
        "colab": {
          "base_uri": "https://localhost:8080/",
          "height": 122
        },
        "colab_type": "code",
        "id": "38aKAmXjtrvm",
        "outputId": "ce533d27-b2a0-47b3-f967-37aab2c08a8a"
      },
      "outputs": [
        {
          "name": "stdout",
          "output_type": "stream",
          "text": [
            "Go to this URL in a browser: https://accounts.google.com/o/oauth2/auth?client_id=947318989803-6bn6qk8qdgf4n4g3pfee6491hc0brc4i.apps.googleusercontent.com&redirect_uri=urn%3Aietf%3Awg%3Aoauth%3A2.0%3Aoob&scope=email%20https%3A%2F%2Fwww.googleapis.com%2Fauth%2Fdocs.test%20https%3A%2F%2Fwww.googleapis.com%2Fauth%2Fdrive%20https%3A%2F%2Fwww.googleapis.com%2Fauth%2Fdrive.photos.readonly%20https%3A%2F%2Fwww.googleapis.com%2Fauth%2Fpeopleapi.readonly&response_type=code\n",
            "\n",
            "Enter your authorization code:\n",
            "··········\n",
            "Mounted at /content/drive\n"
          ]
        }
      ],
      "source": [
        "from google.colab import drive\n",
        "drive.mount('/content/drive')"
      ]
    },
    {
      "cell_type": "code",
      "execution_count": null,
      "metadata": {
        "colab": {},
        "colab_type": "code",
        "id": "sOnV_NgjuGVD"
      },
      "outputs": [],
      "source": [
        "import torch\n",
        "import torch.nn as nn\n",
        "from torchvision import transforms\n",
        "import torch.nn.functional as F\n",
        "from PIL import Image\n",
        "import numpy as np"
      ]
    },
    {
      "cell_type": "code",
      "execution_count": null,
      "metadata": {
        "colab": {},
        "colab_type": "code",
        "id": "vHgIi1dEuZQT"
      },
      "outputs": [],
      "source": [
        "class MultiClassifier(nn.Module):\n",
        "    def __init__(self):\n",
        "        super(MultiClassifier, self).__init__()\n",
        "        self.ConvLayer1 = nn.Sequential(\n",
        "            nn.Conv2d(3, 64, 3), # 3, 256, 256\n",
        "            nn.MaxPool2d(2), # op: 16, 127, 127\n",
        "            nn.ReLU(), # op: 64, 127, 127\n",
        "        )\n",
        "        self.ConvLayer2 = nn.Sequential(\n",
        "            nn.Conv2d(64, 128, 3), # 64, 127, 127   \n",
        "            nn.MaxPool2d(2), #op: 128, 63, 63\n",
        "            nn.ReLU() # op: 128, 63, 63\n",
        "        )\n",
        "        self.ConvLayer3 = nn.Sequential(\n",
        "            nn.Conv2d(128, 256, 3), # 128, 63, 63\n",
        "            nn.MaxPool2d(2), #op: 256, 30, 30\n",
        "            nn.ReLU() #op: 256, 30, 30\n",
        "        )\n",
        "        self.ConvLayer4 = nn.Sequential(\n",
        "            nn.Conv2d(256, 512, 3), # 256, 30, 30\n",
        "            nn.MaxPool2d(2), #op: 512, 14, 14\n",
        "            nn.ReLU(), #op: 512, 14, 14\n",
        "            nn.Dropout(0.2)\n",
        "        )\n",
        "        self.Linear1 = nn.Linear(512 * 14 * 14, 1024)\n",
        "        self.Linear2 = nn.Linear(1024, 256)\n",
        "        self.Linear3 = nn.Linear(256, 40)\n",
        "        \n",
        "        \n",
        "    def forward(self, x):\n",
        "        x = self.ConvLayer1(x)\n",
        "        x = self.ConvLayer2(x)\n",
        "        x = self.ConvLayer3(x)\n",
        "        x = self.ConvLayer4(x)\n",
        "        x = x.view(x.size(0), -1)\n",
        "        x = self.Linear1(x)\n",
        "        x = self.Linear2(x)\n",
        "        x = self.Linear3(x)\n",
        "        return F.sigmoid(x)"
      ]
    },
    {
      "cell_type": "code",
      "execution_count": null,
      "metadata": {
        "colab": {},
        "colab_type": "code",
        "id": "zKnkPlVVuqAw"
      },
      "outputs": [],
      "source": [
        "model_path = '/content/drive/My Drive/Model_40_total_EPCHS_Whole_Dataset'"
      ]
    },
    {
      "cell_type": "code",
      "execution_count": null,
      "metadata": {
        "colab": {},
        "colab_type": "code",
        "id": "GxueN8DUu32Z"
      },
      "outputs": [],
      "source": [
        "model = torch.load(model_path, map_location=torch.device('cpu'))\n",
        "model = model.eval()"
      ]
    },
    {
      "cell_type": "code",
      "execution_count": null,
      "metadata": {
        "colab": {},
        "colab_type": "code",
        "id": "GKHjJfZUu5y5"
      },
      "outputs": [],
      "source": [
        "def get_tensor(img):\n",
        "    tfms = transforms.Compose([\n",
        "        transforms.Resize((256, 256)),\n",
        "        transforms.ToTensor()\n",
        "    ])\n",
        "    \n",
        "    return tfms(Image.open(img)).unsqueeze(0)"
      ]
    },
    {
      "cell_type": "code",
      "execution_count": null,
      "metadata": {
        "colab": {},
        "colab_type": "code",
        "id": "AigX-RaUvYd0"
      },
      "outputs": [],
      "source": [
        "def predict(img, label_lst, model):\n",
        "    tnsr = get_tensor(img)\n",
        "    op = model(tnsr)\n",
        "    op_b = torch.round(op)\n",
        "    \n",
        "    op_b_np = torch.Tensor.cpu(op_b).detach().numpy()\n",
        "    \n",
        "    preds = np.where(op_b_np == 1)[1]\n",
        "    \n",
        "    sigs_op = torch.Tensor.cpu(torch.round((op)*100)).detach().numpy()[0]\n",
        "    \n",
        "    o_p = np.argsort(torch.Tensor.cpu(op).detach().numpy())[0][::-1]\n",
        "    \n",
        "#     print(\"Argsort: {}\".format(o_p))\n",
        "#     print(\"Softmax: {}\".format(sigs_op))\n",
        "    \n",
        "    \n",
        "    \n",
        "#     print(preds)\n",
        "    \n",
        "    label = []\n",
        "    for i in preds:\n",
        "        label.append(label_lst[i])\n",
        "        \n",
        "    arg_s = {}\n",
        "    for i in o_p:\n",
        "#         arg_s.append(label_lst[int(i)])\n",
        "        arg_s[label_lst[int(i)]] = sigs_op[int(i)]\n",
        "        \n",
        "    return label, list(arg_s.items())[:10]"
      ]
    },
    {
      "cell_type": "code",
      "execution_count": null,
      "metadata": {
        "colab": {},
        "colab_type": "code",
        "id": "vz9w0VvJp7co"
      },
      "outputs": [],
      "source": [
        "# torch.save(model, 'drive/My Drive/TRIED_SAVING_TO_DRIVE')"
      ]
    },
    {
      "cell_type": "code",
      "execution_count": null,
      "metadata": {
        "colab": {
          "base_uri": "https://localhost:8080/",
          "height": 258
        },
        "colab_type": "code",
        "id": "8SbQBTckoTHl",
        "outputId": "bb2ddbff-5507-4a96-ec83-5c0601ee5af2"
      },
      "outputs": [],
      "source": [
        "predict('/content/cs1.jpeg', labels, model)"
      ]
    }
  ],
  "metadata": {
    "colab": {
      "collapsed_sections": [],
      "name": "prediction_celebA.ipynb",
      "provenance": []
    },
    "kernelspec": {
      "display_name": "Python 3",
      "name": "python3"
    }
  },
  "nbformat": 4,
  "nbformat_minor": 0
}
